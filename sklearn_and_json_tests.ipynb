{
 "cells": [
  {
   "cell_type": "code",
   "execution_count": 3,
   "metadata": {},
   "outputs": [
    {
     "name": "stdout",
     "output_type": "stream",
     "text": [
      "Packages successfully loaded.\n"
     ]
    }
   ],
   "source": [
    "### 0. Load necessary packages\n",
    "\n",
    "# General, data handling and visualization\n",
    "import os\n",
    "import time\n",
    "import pandas as pd\n",
    "import numpy as np\n",
    "import seaborn as sns\n",
    "import matplotlib.pyplot as plt\n",
    "%matplotlib inline\n",
    "\n",
    "# Data preprocessing, ML model training & validation\n",
    "from sklearn.utils import resample\n",
    "from sklearn.preprocessing import Imputer, StandardScaler\n",
    "from sklearn.feature_extraction import DictVectorizer\n",
    "from sklearn.model_selection import train_test_split\n",
    "from sklearn.utils import shuffle\n",
    "from sklearn import tree\n",
    "from sklearn.linear_model import LogisticRegression\n",
    "from sklearn.ensemble import RandomForestClassifier\n",
    "import autosklearn.classification\n",
    "import sklearn.metrics\n",
    "from sklearn.externals import joblib # to save models\n",
    "\n",
    "# Pipelining & PMML export\n",
    "from sklearn.pipeline import Pipeline\n",
    "#from sklearn2pmml.pipeline import PMMLPipeline\n",
    "#from sklearn2pmml import sklearn2pmml\n",
    "\n",
    "print('Packages successfully loaded.')"
   ]
  },
  {
   "cell_type": "code",
   "execution_count": 14,
   "metadata": {},
   "outputs": [
    {
     "name": "stdout",
     "output_type": "stream",
     "text": [
      "(569, 30)\n",
      "(569,)\n",
      "['mean radius' 'mean texture' 'mean perimeter' 'mean area'\n",
      " 'mean smoothness' 'mean compactness' 'mean concavity'\n",
      " 'mean concave points' 'mean symmetry' 'mean fractal dimension'\n",
      " 'radius error' 'texture error' 'perimeter error' 'area error'\n",
      " 'smoothness error' 'compactness error' 'concavity error'\n",
      " 'concave points error' 'symmetry error' 'fractal dimension error'\n",
      " 'worst radius' 'worst texture' 'worst perimeter' 'worst area'\n",
      " 'worst smoothness' 'worst compactness' 'worst concavity'\n",
      " 'worst concave points' 'worst symmetry' 'worst fractal dimension']\n"
     ]
    }
   ],
   "source": [
    "### Read in a sample dataset\n",
    "from sklearn.datasets import load_breast_cancer\n",
    "data = load_breast_cancer()\n",
    "X = data.data\n",
    "y = data.target\n",
    "col_names = data.feature_names\n",
    "\n",
    "print(X.shape)\n",
    "print(y.shape)\n",
    "\n",
    "#print(X[:4,:])\n",
    "print(col_names)\n",
    "\n",
    "## Train-test split\n",
    "X_train, X_test, y_train, y_test = train_test_split(X, y)"
   ]
  },
  {
   "cell_type": "code",
   "execution_count": 15,
   "metadata": {},
   "outputs": [],
   "source": [
    "def predict(model, X):\n",
    "    predictions = model.predict_proba(X)[:,1]\n",
    "\n",
    "    return predictions.tolist()\n",
    "\n",
    "def validate(model, X, y):\n",
    "    # predict\n",
    "    predictions_prob = predict(model,X)\n",
    "    predictions_rounded = np.round(predictions_prob)\n",
    "\n",
    "    # find roc curve\n",
    "    fpr,tpr,_ = sklearn.metrics.roc_curve(y, predictions_prob)\n",
    "    roc_curve = {'false_positive_rate':fpr.tolist(),'true_positive_rate':tpr.tolist()}\n",
    "\n",
    "    # find auc\n",
    "    auc = sklearn.metrics.auc(fpr,tpr)\n",
    "\n",
    "    # find accuracy\n",
    "    acc = sklearn.metrics.accuracy_score(y, predictions_rounded,normalize=True)\n",
    "\n",
    "    # find log_loss\n",
    "    log_loss = sklearn.metrics.log_loss(y, predictions_prob)\n",
    "\n",
    "    # find precision\n",
    "    precision = sklearn.metrics.precision_score(y,predictions_rounded)\n",
    "\n",
    "    # find recall\n",
    "    recall = sklearn.metrics.recall_score(y,predictions_rounded)\n",
    "    \n",
    "    # find specificity\n",
    "    specificity = sklearn.metrics.recall_score(1-y,1-predictions_rounded)\n",
    "\n",
    "    # find f1-score\n",
    "    f1score = sklearn.metrics.f1_score(y,predictions_rounded)\n",
    "\n",
    "    # find precision-recall curve\n",
    "    prec, rec, _ = precision_recall_curve = sklearn.metrics.precision_recall_curve(y,predictions_prob)\n",
    "    precision_recall_curve = {'recall':rec.tolist(),'precision':prec.tolist()}\n",
    "\n",
    "    # find confusion matrix\n",
    "    confusion_matrix = sklearn.metrics.confusion_matrix(y, predictions_rounded).tolist()\n",
    "\n",
    "    print('area_under_curve: '+'{:.3f}'.format(auc))\n",
    "    print('accuracy: '+'{:.3f}'.format(acc))\n",
    "    print('log_loss: '+'{:.3f}'.format(log_loss))\n",
    "    print('precision: '+'{:.3f}'.format(precision))\n",
    "    print('recall: '+'{:.3f}'.format(recall))\n",
    "    print('specificity: '+'{:.3f}'.format(specificity))\n",
    "    print('f1_score: '+'{:.3f}'.format(f1score))\n",
    "    print()\n",
    "        \n",
    "    print('confusion_matrix:')\n",
    "    print(confusion_matrix)\n",
    "    print()\n",
    "    \n",
    "    print('roc_curve:')\n",
    "    plot_ROC_curve(roc_curve, auc)\n",
    "    print()\n",
    "    \n",
    "    print('precision_recall_curve:')\n",
    "    plot_precision_recall_curve(precision_recall_curve)\n",
    "\n",
    "\n",
    "def plot_ROC_curve(roc_curve, auc):\n",
    "    plt.figure()\n",
    "    lw = 2\n",
    "    plt.plot(roc_curve['false_positive_rate'], roc_curve['true_positive_rate'], color='darkorange',\n",
    "         lw=lw, label='ROC curve (AUC = '+'{:.3f}'.format(auc)+')')\n",
    "    plt.xlim([0.0, 1.0])\n",
    "    #plt.ylim([0.0, 1.05])\n",
    "    plt.xlabel('false positive rate')\n",
    "    plt.ylabel('true positive rate')\n",
    "    plt.title('ROC curve')\n",
    "    plt.legend(loc=\"lower right\")\n",
    "    plt.show()\n",
    "    plt.clf()\n",
    "    \n",
    "def plot_precision_recall_curve(precision_recall_curve):\n",
    "    plt.figure()\n",
    "    lw = 2\n",
    "    plt.plot(precision_recall_curve['recall'], precision_recall_curve['precision'], color='blue',\n",
    "         lw=lw, label='precision-recall curve')\n",
    "    plt.xlim([0.0, 1.0])\n",
    "    #plt.ylim([0.0, 1.05])\n",
    "    plt.xlabel('recall')\n",
    "    plt.ylabel('precision')\n",
    "    plt.title('precision-recall curve')\n",
    "    plt.legend(loc=\"lower right\")\n",
    "    plt.show()\n",
    "    plt.clf()    "
   ]
  },
  {
   "cell_type": "code",
   "execution_count": 16,
   "metadata": {},
   "outputs": [
    {
     "name": "stdout",
     "output_type": "stream",
     "text": [
      "area_under_curve: 0.981\n",
      "accuracy: 0.965\n",
      "log_loss: 0.122\n",
      "precision: 0.948\n",
      "recall: 1.000\n",
      "specificity: 0.902\n",
      "f1_score: 0.974\n",
      "\n",
      "confusion_matrix:\n",
      "[[46, 5], [0, 92]]\n",
      "\n",
      "roc_curve:\n"
     ]
    },
    {
     "data": {
      "image/png": "[encoded data removed]",
      "text/plain": [
       "<matplotlib.figure.Figure at 0x7f08a7c47f98>"
      ]
     },
     "metadata": {},
     "output_type": "display_data"
    },
    {
     "name": "stdout",
     "output_type": "stream",
     "text": [
      "\n",
      "precision_recall_curve:\n"
     ]
    },
    {
     "data": {
      "text/plain": [
       "<matplotlib.figure.Figure at 0x7f0867aec0b8>"
      ]
     },
     "metadata": {},
     "output_type": "display_data"
    },
    {
     "data": {
      "image/png": "[encoded data removed]",
      "text/plain": [
       "<matplotlib.figure.Figure at 0x7f087006acf8>"
      ]
     },
     "metadata": {},
     "output_type": "display_data"
    },
    {
     "data": {
      "text/plain": [
       "<matplotlib.figure.Figure at 0x7f0867a86d68>"
      ]
     },
     "metadata": {},
     "output_type": "display_data"
    }
   ],
   "source": [
    "### LOGISTIC REGRESSION WITHOUT BALANCING\n",
    "\n",
    "## Create logistic regression classifier object (other pipeline elements are defined already above)\n",
    "scale = StandardScaler(with_mean=False)\n",
    "LR_clf = LogisticRegression()\n",
    "\n",
    "## Create pipeline\n",
    "logistic_regression_pipeline = Pipeline([('scaling', scale),\n",
    "                                         ('classifier', LR_clf)])\n",
    "\n",
    "## Fit the pipeline - it's necessary to specify the option 'records' in the to_dict() function\n",
    "logistic_regression_pipeline.fit(X_train, y_train)\n",
    "\n",
    "## Test the pipeline by making predictions and computing metrics\n",
    "validate(logistic_regression_pipeline, X_test, y_test)"
   ]
  },
  {
   "cell_type": "code",
   "execution_count": null,
   "metadata": {},
   "outputs": [],
   "source": []
  }
 ],
 "metadata": {
  "kernelspec": {
   "display_name": "Python [default]",
   "language": "python",
   "name": "python3"
  },
  "language_info": {
   "codemirror_mode": {
    "name": "ipython",
    "version": 3
   },
   "file_extension": ".py",
   "mimetype": "text/x-python",
   "name": "python",
   "nbconvert_exporter": "python",
   "pygments_lexer": "ipython3",
   "version": "3.6.4"
  }
 },
 "nbformat": 4,
 "nbformat_minor": 2
}
