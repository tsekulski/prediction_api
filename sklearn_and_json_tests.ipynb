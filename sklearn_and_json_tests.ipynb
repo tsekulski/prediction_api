{
 "cells": [
  {
   "cell_type": "code",
   "execution_count": 1,
   "metadata": {},
   "outputs": [
    {
     "name": "stdout",
     "output_type": "stream",
     "text": [
      "Packages successfully loaded.\n"
     ]
    }
   ],
   "source": [
    "### 0. Load necessary packages\n",
    "\n",
    "# General, data handling and visualization\n",
    "import os\n",
    "import time\n",
    "import pandas as pd\n",
    "import numpy as np\n",
    "import seaborn as sns\n",
    "import matplotlib.pyplot as plt\n",
    "%matplotlib inline\n",
    "\n",
    "# Data preprocessing, ML model training & validation\n",
    "from sklearn.utils import resample\n",
    "from sklearn.preprocessing import Imputer, StandardScaler\n",
    "from sklearn.feature_extraction import DictVectorizer\n",
    "from sklearn.model_selection import train_test_split\n",
    "from sklearn.utils import shuffle\n",
    "from sklearn import tree\n",
    "from sklearn.linear_model import LogisticRegression\n",
    "from sklearn.ensemble import RandomForestClassifier\n",
    "import autosklearn.classification\n",
    "import sklearn.metrics\n",
    "from sklearn.externals import joblib # to save models\n",
    "\n",
    "# Pipelining & PMML export\n",
    "from sklearn.pipeline import Pipeline\n",
    "#from sklearn2pmml.pipeline import PMMLPipeline\n",
    "#from sklearn2pmml import sklearn2pmml\n",
    "\n",
    "print('Packages successfully loaded.')"
   ]
  },
  {
   "cell_type": "code",
   "execution_count": 2,
   "metadata": {},
   "outputs": [
    {
     "name": "stdout",
     "output_type": "stream",
     "text": [
      "(569, 5)\n",
      "(569,)\n",
      "['mean radius' 'mean texture' 'mean perimeter' 'mean area'\n",
      " 'mean smoothness']\n"
     ]
    }
   ],
   "source": [
    "### Read in a sample dataset\n",
    "from sklearn.datasets import load_breast_cancer\n",
    "data = load_breast_cancer()\n",
    "X = data.data[:,:5] # only first 5 columns to make some testing easier\n",
    "y = data.target\n",
    "col_names = data.feature_names[:5]\n",
    "\n",
    "print(X.shape)\n",
    "print(y.shape)\n",
    "\n",
    "#print(X[:4,:])\n",
    "print(col_names)\n",
    "\n",
    "## Train-test split\n",
    "X_train, X_test, y_train, y_test = train_test_split(X, y)"
   ]
  },
  {
   "cell_type": "code",
   "execution_count": 3,
   "metadata": {},
   "outputs": [],
   "source": [
    "def predict(model, X):\n",
    "    predictions = model.predict_proba(X)[:,1]\n",
    "\n",
    "    return predictions.tolist()\n",
    "\n",
    "def validate(model, X, y):\n",
    "    # predict\n",
    "    predictions_prob = predict(model,X)\n",
    "    predictions_rounded = np.round(predictions_prob)\n",
    "\n",
    "    # find roc curve\n",
    "    fpr,tpr,_ = sklearn.metrics.roc_curve(y, predictions_prob)\n",
    "    roc_curve = {'false_positive_rate':fpr.tolist(),'true_positive_rate':tpr.tolist()}\n",
    "\n",
    "    # find auc\n",
    "    auc = sklearn.metrics.auc(fpr,tpr)\n",
    "\n",
    "    # find accuracy\n",
    "    acc = sklearn.metrics.accuracy_score(y, predictions_rounded,normalize=True)\n",
    "\n",
    "    # find log_loss\n",
    "    log_loss = sklearn.metrics.log_loss(y, predictions_prob)\n",
    "\n",
    "    # find precision\n",
    "    precision = sklearn.metrics.precision_score(y,predictions_rounded)\n",
    "\n",
    "    # find recall\n",
    "    recall = sklearn.metrics.recall_score(y,predictions_rounded)\n",
    "    \n",
    "    # find specificity\n",
    "    specificity = sklearn.metrics.recall_score(1-y,1-predictions_rounded)\n",
    "\n",
    "    # find f1-score\n",
    "    f1score = sklearn.metrics.f1_score(y,predictions_rounded)\n",
    "\n",
    "    # find precision-recall curve\n",
    "    prec, rec, _ = precision_recall_curve = sklearn.metrics.precision_recall_curve(y,predictions_prob)\n",
    "    precision_recall_curve = {'recall':rec.tolist(),'precision':prec.tolist()}\n",
    "\n",
    "    # find confusion matrix\n",
    "    confusion_matrix = sklearn.metrics.confusion_matrix(y, predictions_rounded).tolist()\n",
    "\n",
    "    print('area_under_curve: '+'{:.3f}'.format(auc))\n",
    "    print('accuracy: '+'{:.3f}'.format(acc))\n",
    "    print('log_loss: '+'{:.3f}'.format(log_loss))\n",
    "    print('precision: '+'{:.3f}'.format(precision))\n",
    "    print('recall: '+'{:.3f}'.format(recall))\n",
    "    print('specificity: '+'{:.3f}'.format(specificity))\n",
    "    print('f1_score: '+'{:.3f}'.format(f1score))\n",
    "    print()\n",
    "        \n",
    "    print('confusion_matrix:')\n",
    "    print(confusion_matrix)\n",
    "    print()\n",
    "    \n",
    "    print('roc_curve:')\n",
    "    plot_ROC_curve(roc_curve, auc)\n",
    "    print()\n",
    "    \n",
    "    print('precision_recall_curve:')\n",
    "    plot_precision_recall_curve(precision_recall_curve)\n",
    "\n",
    "\n",
    "def plot_ROC_curve(roc_curve, auc):\n",
    "    plt.figure()\n",
    "    lw = 2\n",
    "    plt.plot(roc_curve['false_positive_rate'], roc_curve['true_positive_rate'], color='darkorange',\n",
    "         lw=lw, label='ROC curve (AUC = '+'{:.3f}'.format(auc)+')')\n",
    "    plt.xlim([0.0, 1.0])\n",
    "    #plt.ylim([0.0, 1.05])\n",
    "    plt.xlabel('false positive rate')\n",
    "    plt.ylabel('true positive rate')\n",
    "    plt.title('ROC curve')\n",
    "    plt.legend(loc=\"lower right\")\n",
    "    plt.show()\n",
    "    plt.clf()\n",
    "    \n",
    "def plot_precision_recall_curve(precision_recall_curve):\n",
    "    plt.figure()\n",
    "    lw = 2\n",
    "    plt.plot(precision_recall_curve['recall'], precision_recall_curve['precision'], color='blue',\n",
    "         lw=lw, label='precision-recall curve')\n",
    "    plt.xlim([0.0, 1.0])\n",
    "    #plt.ylim([0.0, 1.05])\n",
    "    plt.xlabel('recall')\n",
    "    plt.ylabel('precision')\n",
    "    plt.title('precision-recall curve')\n",
    "    plt.legend(loc=\"lower right\")\n",
    "    plt.show()\n",
    "    plt.clf()    "
   ]
  },
  {
   "cell_type": "code",
   "execution_count": 4,
   "metadata": {},
   "outputs": [
    {
     "name": "stdout",
     "output_type": "stream",
     "text": [
      "area_under_curve: 0.979\n",
      "accuracy: 0.909\n",
      "log_loss: 0.262\n",
      "precision: 0.871\n",
      "recall: 1.000\n",
      "specificity: 0.764\n",
      "f1_score: 0.931\n",
      "\n",
      "confusion_matrix:\n",
      "[[42, 13], [0, 88]]\n",
      "\n",
      "roc_curve:\n"
     ]
    },
    {
     "data": {
      "image/png": "[encoded data removed]",
      "text/plain": [
       "<matplotlib.figure.Figure at 0x7f9b8826b9b0>"
      ]
     },
     "metadata": {},
     "output_type": "display_data"
    },
    {
     "name": "stdout",
     "output_type": "stream",
     "text": [
      "\n",
      "precision_recall_curve:\n"
     ]
    },
    {
     "data": {
      "text/plain": [
       "<matplotlib.figure.Figure at 0x7f9b45acaeb8>"
      ]
     },
     "metadata": {},
     "output_type": "display_data"
    },
    {
     "data": {
      "image/png": "[encoded data removed]",
      "text/plain": [
       "<matplotlib.figure.Figure at 0x7f9b45b2afd0>"
      ]
     },
     "metadata": {},
     "output_type": "display_data"
    },
    {
     "data": {
      "text/plain": [
       "<matplotlib.figure.Figure at 0x7f9b86ab1358>"
      ]
     },
     "metadata": {},
     "output_type": "display_data"
    }
   ],
   "source": [
    "### LOGISTIC REGRESSION WITHOUT BALANCING\n",
    "\n",
    "## Create logistic regression classifier object (other pipeline elements are defined already above)\n",
    "imp = Imputer(missing_values='NaN', strategy='mean', axis=0)\n",
    "scale = StandardScaler(with_mean=False)\n",
    "LR_clf = LogisticRegression()\n",
    "\n",
    "## Create pipeline\n",
    "logistic_regression_pipeline = Pipeline([('imputation', imp),\n",
    "                                         ('scaling', scale),\n",
    "                                         ('classifier', LR_clf)])\n",
    "\n",
    "## Fit the pipeline - it's necessary to specify the option 'records' in the to_dict() function\n",
    "logistic_regression_pipeline.fit(X_train, y_train)\n",
    "\n",
    "## Test the pipeline by making predictions and computing metrics\n",
    "validate(logistic_regression_pipeline, X_test, y_test)"
   ]
  },
  {
   "cell_type": "code",
   "execution_count": 5,
   "metadata": {},
   "outputs": [
    {
     "name": "stdout",
     "output_type": "stream",
     "text": [
      "\n",
      "[1, 1]\n"
     ]
    }
   ],
   "source": [
    "#print(logistic_regression_pipeline.predict(X_test[0]))\n",
    "print()\n",
    "print(list(logistic_regression_pipeline.predict(X_test[:2,:])))"
   ]
  },
  {
   "cell_type": "code",
   "execution_count": 6,
   "metadata": {},
   "outputs": [
    {
     "data": {
      "text/html": [
       "<div>\n",
       "<style scoped>\n",
       "    .dataframe tbody tr th:only-of-type {\n",
       "        vertical-align: middle;\n",
       "    }\n",
       "\n",
       "    .dataframe tbody tr th {\n",
       "        vertical-align: top;\n",
       "    }\n",
       "\n",
       "    .dataframe thead th {\n",
       "        text-align: right;\n",
       "    }\n",
       "</style>\n",
       "<table border=\"1\" class=\"dataframe\">\n",
       "  <thead>\n",
       "    <tr style=\"text-align: right;\">\n",
       "      <th></th>\n",
       "      <th>mean radius</th>\n",
       "      <th>mean texture</th>\n",
       "      <th>mean perimeter</th>\n",
       "      <th>mean area</th>\n",
       "      <th>mean smoothness</th>\n",
       "    </tr>\n",
       "  </thead>\n",
       "  <tbody>\n",
       "    <tr>\n",
       "      <th>0</th>\n",
       "      <td>8.598</td>\n",
       "      <td>20.98</td>\n",
       "      <td>54.66</td>\n",
       "      <td>221.8</td>\n",
       "      <td>0.12430</td>\n",
       "    </tr>\n",
       "    <tr>\n",
       "      <th>1</th>\n",
       "      <td>10.880</td>\n",
       "      <td>15.62</td>\n",
       "      <td>70.41</td>\n",
       "      <td>358.9</td>\n",
       "      <td>0.10070</td>\n",
       "    </tr>\n",
       "    <tr>\n",
       "      <th>2</th>\n",
       "      <td>13.780</td>\n",
       "      <td>15.79</td>\n",
       "      <td>88.37</td>\n",
       "      <td>585.9</td>\n",
       "      <td>0.08817</td>\n",
       "    </tr>\n",
       "    <tr>\n",
       "      <th>3</th>\n",
       "      <td>11.600</td>\n",
       "      <td>24.49</td>\n",
       "      <td>74.23</td>\n",
       "      <td>417.2</td>\n",
       "      <td>0.07474</td>\n",
       "    </tr>\n",
       "    <tr>\n",
       "      <th>4</th>\n",
       "      <td>10.650</td>\n",
       "      <td>25.22</td>\n",
       "      <td>68.01</td>\n",
       "      <td>347.0</td>\n",
       "      <td>0.09657</td>\n",
       "    </tr>\n",
       "  </tbody>\n",
       "</table>\n",
       "</div>"
      ],
      "text/plain": [
       "   mean radius  mean texture  mean perimeter  mean area  mean smoothness\n",
       "0        8.598         20.98           54.66      221.8          0.12430\n",
       "1       10.880         15.62           70.41      358.9          0.10070\n",
       "2       13.780         15.79           88.37      585.9          0.08817\n",
       "3       11.600         24.49           74.23      417.2          0.07474\n",
       "4       10.650         25.22           68.01      347.0          0.09657"
      ]
     },
     "execution_count": 6,
     "metadata": {},
     "output_type": "execute_result"
    }
   ],
   "source": [
    "features_df = pd.DataFrame(X_test, columns = col_names)\n",
    "features_df.head()"
   ]
  },
  {
   "cell_type": "code",
   "execution_count": 15,
   "metadata": {},
   "outputs": [
    {
     "name": "stdout",
     "output_type": "stream",
     "text": [
      "{'mean radius': {0: 8.598, 1: 10.88, 2: 13.78, 3: 11.6, 4: 10.65, 5: 19.8, 6: 12.1, 7: 15.13, 8: 18.82}, 'mean texture': {0: 20.98, 1: 15.62, 2: 15.79, 3: 24.49, 4: 25.22, 5: 21.56, 6: 17.72, 7: 29.81, 8: 21.97}, 'mean perimeter': {0: 54.66, 1: 70.41, 2: 88.37, 3: 74.23, 4: 68.01, 5: 129.7, 6: 78.07, 7: 96.71, 8: 123.7}, 'mean area': {0: 221.8, 1: 358.9, 2: 585.9, 3: 417.2, 4: 347.0, 5: 1230.0, 6: 446.2, 7: 719.5, 8: 1110.0}, 'mean smoothness': {0: 0.1243, 1: 0.1007, 2: 0.08817, 3: 0.07474, 4: 0.09657, 5: 0.09383, 6: 0.1029, 7: 0.0832, 8: 0.1018}}\n",
      "\n",
      "{\"mean radius\": {\"0\": 8.598, \"1\": 10.88, \"2\": 13.78, \"3\": 11.6, \"4\": 10.65, \"5\": 19.8, \"6\": 12.1, \"7\": 15.13, \"8\": 18.82}, \"mean texture\": {\"0\": 20.98, \"1\": 15.62, \"2\": 15.79, \"3\": 24.49, \"4\": 25.22, \"5\": 21.56, \"6\": 17.72, \"7\": 29.81, \"8\": 21.97}, \"mean perimeter\": {\"0\": 54.66, \"1\": 70.41, \"2\": 88.37, \"3\": 74.23, \"4\": 68.01, \"5\": 129.7, \"6\": 78.07, \"7\": 96.71, \"8\": 123.7}, \"mean area\": {\"0\": 221.8, \"1\": 358.9, \"2\": 585.9, \"3\": 417.2, \"4\": 347.0, \"5\": 1230.0, \"6\": 446.2, \"7\": 719.5, \"8\": 1110.0}, \"mean smoothness\": {\"0\": 0.1243, \"1\": 0.1007, \"2\": 0.08817, \"3\": 0.07474, \"4\": 0.09657, \"5\": 0.09383, \"6\": 0.1029, \"7\": 0.0832, \"8\": 0.1018}}\n",
      "\n",
      "{'mean radius': {'0': 8.598, '1': 10.88, '2': 13.78, '3': 11.6, '4': 10.65, '5': 19.8, '6': 12.1, '7': 15.13, '8': 18.82}, 'mean texture': {'0': 20.98, '1': 15.62, '2': 15.79, '3': 24.49, '4': 25.22, '5': 21.56, '6': 17.72, '7': 29.81, '8': 21.97}, 'mean perimeter': {'0': 54.66, '1': 70.41, '2': 88.37, '3': 74.23, '4': 68.01, '5': 129.7, '6': 78.07, '7': 96.71, '8': 123.7}, 'mean area': {'0': 221.8, '1': 358.9, '2': 585.9, '3': 417.2, '4': 347.0, '5': 1230.0, '6': 446.2, '7': 719.5, '8': 1110.0}, 'mean smoothness': {'0': 0.1243, '1': 0.1007, '2': 0.08817, '3': 0.07474, '4': 0.09657, '5': 0.09383, '6': 0.1029, '7': 0.0832, '8': 0.1018}}\n",
      "\n"
     ]
    },
    {
     "data": {
      "text/html": [
       "<div>\n",
       "<style scoped>\n",
       "    .dataframe tbody tr th:only-of-type {\n",
       "        vertical-align: middle;\n",
       "    }\n",
       "\n",
       "    .dataframe tbody tr th {\n",
       "        vertical-align: top;\n",
       "    }\n",
       "\n",
       "    .dataframe thead th {\n",
       "        text-align: right;\n",
       "    }\n",
       "</style>\n",
       "<table border=\"1\" class=\"dataframe\">\n",
       "  <thead>\n",
       "    <tr style=\"text-align: right;\">\n",
       "      <th></th>\n",
       "      <th>mean radius</th>\n",
       "      <th>mean texture</th>\n",
       "      <th>mean perimeter</th>\n",
       "      <th>mean area</th>\n",
       "      <th>mean smoothness</th>\n",
       "    </tr>\n",
       "  </thead>\n",
       "  <tbody>\n",
       "    <tr>\n",
       "      <th>0</th>\n",
       "      <td>8.598</td>\n",
       "      <td>20.98</td>\n",
       "      <td>54.66</td>\n",
       "      <td>221.8</td>\n",
       "      <td>0.12430</td>\n",
       "    </tr>\n",
       "    <tr>\n",
       "      <th>1</th>\n",
       "      <td>10.880</td>\n",
       "      <td>15.62</td>\n",
       "      <td>70.41</td>\n",
       "      <td>358.9</td>\n",
       "      <td>0.10070</td>\n",
       "    </tr>\n",
       "    <tr>\n",
       "      <th>2</th>\n",
       "      <td>13.780</td>\n",
       "      <td>15.79</td>\n",
       "      <td>88.37</td>\n",
       "      <td>585.9</td>\n",
       "      <td>0.08817</td>\n",
       "    </tr>\n",
       "    <tr>\n",
       "      <th>3</th>\n",
       "      <td>11.600</td>\n",
       "      <td>24.49</td>\n",
       "      <td>74.23</td>\n",
       "      <td>417.2</td>\n",
       "      <td>0.07474</td>\n",
       "    </tr>\n",
       "    <tr>\n",
       "      <th>4</th>\n",
       "      <td>10.650</td>\n",
       "      <td>25.22</td>\n",
       "      <td>68.01</td>\n",
       "      <td>347.0</td>\n",
       "      <td>0.09657</td>\n",
       "    </tr>\n",
       "    <tr>\n",
       "      <th>5</th>\n",
       "      <td>19.800</td>\n",
       "      <td>21.56</td>\n",
       "      <td>129.70</td>\n",
       "      <td>1230.0</td>\n",
       "      <td>0.09383</td>\n",
       "    </tr>\n",
       "    <tr>\n",
       "      <th>6</th>\n",
       "      <td>12.100</td>\n",
       "      <td>17.72</td>\n",
       "      <td>78.07</td>\n",
       "      <td>446.2</td>\n",
       "      <td>0.10290</td>\n",
       "    </tr>\n",
       "    <tr>\n",
       "      <th>7</th>\n",
       "      <td>15.130</td>\n",
       "      <td>29.81</td>\n",
       "      <td>96.71</td>\n",
       "      <td>719.5</td>\n",
       "      <td>0.08320</td>\n",
       "    </tr>\n",
       "    <tr>\n",
       "      <th>8</th>\n",
       "      <td>18.820</td>\n",
       "      <td>21.97</td>\n",
       "      <td>123.70</td>\n",
       "      <td>1110.0</td>\n",
       "      <td>0.10180</td>\n",
       "    </tr>\n",
       "  </tbody>\n",
       "</table>\n",
       "</div>"
      ],
      "text/plain": [
       "   mean radius  mean texture  mean perimeter  mean area  mean smoothness\n",
       "0        8.598         20.98           54.66      221.8          0.12430\n",
       "1       10.880         15.62           70.41      358.9          0.10070\n",
       "2       13.780         15.79           88.37      585.9          0.08817\n",
       "3       11.600         24.49           74.23      417.2          0.07474\n",
       "4       10.650         25.22           68.01      347.0          0.09657\n",
       "5       19.800         21.56          129.70     1230.0          0.09383\n",
       "6       12.100         17.72           78.07      446.2          0.10290\n",
       "7       15.130         29.81           96.71      719.5          0.08320\n",
       "8       18.820         21.97          123.70     1110.0          0.10180"
      ]
     },
     "execution_count": 15,
     "metadata": {},
     "output_type": "execute_result"
    }
   ],
   "source": [
    "from flask import Flask, jsonify\n",
    "import json\n",
    "\n",
    "# this won't work without app context\n",
    "#jsonify(features_df.head())\n",
    "\n",
    "features_dict = features_df.head(9).to_dict()\n",
    "\n",
    "print(features_dict)\n",
    "print()\n",
    "\n",
    "json_string = json.dumps(features_dict)\n",
    "print(json_string)\n",
    "print()\n",
    "\n",
    "loaded_dict = json.loads(json_string)\n",
    "print(loaded_dict)\n",
    "print()\n",
    "\n",
    "query_df = pd.DataFrame(loaded_dict, columns=loaded_dict.keys())\n",
    "\n",
    "query_df"
   ]
  },
  {
   "cell_type": "code",
   "execution_count": 24,
   "metadata": {},
   "outputs": [
    {
     "name": "stdout",
     "output_type": "stream",
     "text": [
      "[ 0.79144561  0.91757698  0.84080338  0.90066655  0.83997748  0.01454409\n",
      "  0.85274319  0.3877791   0.02989839]\n",
      "\n",
      "[ 0.79144561  0.91757698  0.84080338  0.90066655  0.83997748  0.01454409\n",
      "  0.85274319  0.3877791   0.02989839]\n"
     ]
    }
   ],
   "source": [
    "print(logistic_regression_pipeline.predict_proba(features_df.head(9))[:,1])\n",
    "print()\n",
    "print(logistic_regression_pipeline.predict_proba(query_df)[:,1])"
   ]
  },
  {
   "cell_type": "code",
   "execution_count": 17,
   "metadata": {},
   "outputs": [
    {
     "data": {
      "text/plain": [
       "[('var_1', [1]), ('var_2', [2]), ('var_3', [3])]"
      ]
     },
     "execution_count": 17,
     "metadata": {},
     "output_type": "execute_result"
    }
   ],
   "source": [
    "col_names = ['var_1', 'var_2', 'var_3']\n",
    "input_variables =  [[1], [2], [3]]\n",
    "zipped = list(zip(col_names, input_variables))\n",
    "zipped"
   ]
  },
  {
   "cell_type": "code",
   "execution_count": 18,
   "metadata": {},
   "outputs": [
    {
     "data": {
      "text/plain": [
       "{'var_1': [1], 'var_2': [2], 'var_3': [3]}"
      ]
     },
     "execution_count": 18,
     "metadata": {},
     "output_type": "execute_result"
    }
   ],
   "source": [
    "data = dict(zipped)\n",
    "data"
   ]
  },
  {
   "cell_type": "code",
   "execution_count": 19,
   "metadata": {},
   "outputs": [
    {
     "data": {
      "text/html": [
       "<div>\n",
       "<style scoped>\n",
       "    .dataframe tbody tr th:only-of-type {\n",
       "        vertical-align: middle;\n",
       "    }\n",
       "\n",
       "    .dataframe tbody tr th {\n",
       "        vertical-align: top;\n",
       "    }\n",
       "\n",
       "    .dataframe thead th {\n",
       "        text-align: right;\n",
       "    }\n",
       "</style>\n",
       "<table border=\"1\" class=\"dataframe\">\n",
       "  <thead>\n",
       "    <tr style=\"text-align: right;\">\n",
       "      <th></th>\n",
       "      <th>var_1</th>\n",
       "      <th>var_2</th>\n",
       "      <th>var_3</th>\n",
       "    </tr>\n",
       "  </thead>\n",
       "  <tbody>\n",
       "    <tr>\n",
       "      <th>0</th>\n",
       "      <td>1</td>\n",
       "      <td>2</td>\n",
       "      <td>3</td>\n",
       "    </tr>\n",
       "  </tbody>\n",
       "</table>\n",
       "</div>"
      ],
      "text/plain": [
       "   var_1  var_2  var_3\n",
       "0      1      2      3"
      ]
     },
     "execution_count": 19,
     "metadata": {},
     "output_type": "execute_result"
    }
   ],
   "source": [
    "df_1 = pd.DataFrame(data)\n",
    "df_1"
   ]
  },
  {
   "cell_type": "code",
   "execution_count": 20,
   "metadata": {},
   "outputs": [
    {
     "data": {
      "text/plain": [
       "'{\"var_1\": [1], \"var_2\": [2], \"var_3\": [3]}'"
      ]
     },
     "execution_count": 20,
     "metadata": {},
     "output_type": "execute_result"
    }
   ],
   "source": [
    "json_string = json.dumps(data)\n",
    "json_string\n"
   ]
  },
  {
   "cell_type": "code",
   "execution_count": 25,
   "metadata": {},
   "outputs": [
    {
     "data": {
      "text/plain": [
       "['wisconsin_col_names.pkl']"
      ]
     },
     "execution_count": 25,
     "metadata": {},
     "output_type": "execute_result"
    }
   ],
   "source": [
    "joblib.dump(logistic_regression_pipeline, 'wisconsin_model.pkl')\n",
    "joblib.dump(col_names, 'wisconsin_col_names.pkl')"
   ]
  },
  {
   "cell_type": "code",
   "execution_count": null,
   "metadata": {},
   "outputs": [],
   "source": []
  }
 ],
 "metadata": {
  "kernelspec": {
   "display_name": "Python [default]",
   "language": "python",
   "name": "python3"
  },
  "language_info": {
   "codemirror_mode": {
    "name": "ipython",
    "version": 3
   },
   "file_extension": ".py",
   "mimetype": "text/x-python",
   "name": "python",
   "nbconvert_exporter": "python",
   "pygments_lexer": "ipython3",
   "version": "3.6.4"
  }
 },
 "nbformat": 4,
 "nbformat_minor": 2
}
